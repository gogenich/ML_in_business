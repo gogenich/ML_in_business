{
 "cells": [
  {
   "cell_type": "markdown",
   "id": "10cbb41d",
   "metadata": {},
   "source": [
    "загрузим данные с урока"
   ]
  },
  {
   "cell_type": "code",
   "execution_count": 1,
   "id": "f89d4070",
   "metadata": {},
   "outputs": [
    {
     "name": "stdout",
     "output_type": "stream",
     "text": [
      "--2022-03-01 21:29:53--  https://drive.google.com/uc?export=download&id=1Si4EJ_RexI3Q7yZU8eLjgp4ORe_BXr4G\n",
      "Распознаётся drive.google.com (drive.google.com)... 64.233.162.194, 2a00:1450:4010:c06::c2\n",
      "Подключение к drive.google.com (drive.google.com)|64.233.162.194|:443... соединение установлено.\n",
      "HTTP-запрос отправлен. Ожидание ответа... 303 See Other\n",
      "Адрес: https://doc-00-c0-docs.googleusercontent.com/docs/securesc/ha0ro937gcuc7l7deffksulhg5h7mbp1/jj9messdh33b23dn9785qrh3ig5l215p/1646159325000/14904333240138417226/*/1Si4EJ_RexI3Q7yZU8eLjgp4ORe_BXr4G?e=download [переход]\n",
      "Предупреждение: в HTTP шаблоны не поддерживаются.\n",
      "--2022-03-01 21:29:54--  https://doc-00-c0-docs.googleusercontent.com/docs/securesc/ha0ro937gcuc7l7deffksulhg5h7mbp1/jj9messdh33b23dn9785qrh3ig5l215p/1646159325000/14904333240138417226/*/1Si4EJ_RexI3Q7yZU8eLjgp4ORe_BXr4G?e=download\n",
      "Распознаётся doc-00-c0-docs.googleusercontent.com (doc-00-c0-docs.googleusercontent.com)... 142.251.1.132, 2a00:1450:4010:c1e::84\n",
      "Подключение к doc-00-c0-docs.googleusercontent.com (doc-00-c0-docs.googleusercontent.com)|142.251.1.132|:443... соединение установлено.\n",
      "HTTP-запрос отправлен. Ожидание ответа... 200 OK\n",
      "Длина: 2941524 (2,8M) [text/csv]\n",
      "Сохранение в каталог: ««train_case2.csv»».\n",
      "\n",
      "train_case2.csv     100%[===================>]   2,80M  4,58MB/s    за 0,6s    \n",
      "\n",
      "2022-03-01 21:29:55 (4,58 MB/s) - «train_case2.csv» сохранён [2941524/2941524]\n",
      "\n"
     ]
    }
   ],
   "source": [
    "!wget 'https://drive.google.com/uc?export=download&id=1Si4EJ_RexI3Q7yZU8eLjgp4ORe_BXr4G' -O train_case2.csv"
   ]
  },
  {
   "cell_type": "code",
   "execution_count": 59,
   "id": "0d47ba4a",
   "metadata": {},
   "outputs": [
    {
     "data": {
      "text/html": [
       "<div>\n",
       "<style scoped>\n",
       "    .dataframe tbody tr th:only-of-type {\n",
       "        vertical-align: middle;\n",
       "    }\n",
       "\n",
       "    .dataframe tbody tr th {\n",
       "        vertical-align: top;\n",
       "    }\n",
       "\n",
       "    .dataframe thead th {\n",
       "        text-align: right;\n",
       "    }\n",
       "</style>\n",
       "<table border=\"1\" class=\"dataframe\">\n",
       "  <thead>\n",
       "    <tr style=\"text-align: right;\">\n",
       "      <th></th>\n",
       "      <th>id</th>\n",
       "      <th>age</th>\n",
       "      <th>gender</th>\n",
       "      <th>height</th>\n",
       "      <th>weight</th>\n",
       "      <th>ap_hi</th>\n",
       "      <th>ap_lo</th>\n",
       "      <th>cholesterol</th>\n",
       "      <th>gluc</th>\n",
       "      <th>smoke</th>\n",
       "      <th>alco</th>\n",
       "      <th>active</th>\n",
       "      <th>cardio</th>\n",
       "    </tr>\n",
       "  </thead>\n",
       "  <tbody>\n",
       "    <tr>\n",
       "      <th>0</th>\n",
       "      <td>0</td>\n",
       "      <td>18393</td>\n",
       "      <td>2</td>\n",
       "      <td>168</td>\n",
       "      <td>62.0</td>\n",
       "      <td>110</td>\n",
       "      <td>80</td>\n",
       "      <td>1</td>\n",
       "      <td>1</td>\n",
       "      <td>0</td>\n",
       "      <td>0</td>\n",
       "      <td>1</td>\n",
       "      <td>0</td>\n",
       "    </tr>\n",
       "    <tr>\n",
       "      <th>1</th>\n",
       "      <td>1</td>\n",
       "      <td>20228</td>\n",
       "      <td>1</td>\n",
       "      <td>156</td>\n",
       "      <td>85.0</td>\n",
       "      <td>140</td>\n",
       "      <td>90</td>\n",
       "      <td>3</td>\n",
       "      <td>1</td>\n",
       "      <td>0</td>\n",
       "      <td>0</td>\n",
       "      <td>1</td>\n",
       "      <td>1</td>\n",
       "    </tr>\n",
       "    <tr>\n",
       "      <th>2</th>\n",
       "      <td>2</td>\n",
       "      <td>18857</td>\n",
       "      <td>1</td>\n",
       "      <td>165</td>\n",
       "      <td>64.0</td>\n",
       "      <td>130</td>\n",
       "      <td>70</td>\n",
       "      <td>3</td>\n",
       "      <td>1</td>\n",
       "      <td>0</td>\n",
       "      <td>0</td>\n",
       "      <td>0</td>\n",
       "      <td>1</td>\n",
       "    </tr>\n",
       "  </tbody>\n",
       "</table>\n",
       "</div>"
      ],
      "text/plain": [
       "   id    age  gender  height  weight  ap_hi  ap_lo  cholesterol  gluc  smoke  \\\n",
       "0   0  18393       2     168    62.0    110     80            1     1      0   \n",
       "1   1  20228       1     156    85.0    140     90            3     1      0   \n",
       "2   2  18857       1     165    64.0    130     70            3     1      0   \n",
       "\n",
       "   alco  active  cardio  \n",
       "0     0       1       0  \n",
       "1     0       1       1  \n",
       "2     0       0       1  "
      ]
     },
     "execution_count": 59,
     "metadata": {},
     "output_type": "execute_result"
    }
   ],
   "source": [
    "import numpy as np\n",
    "import pandas as pd\n",
    "\n",
    "from sklearn.feature_extraction.text import TfidfVectorizer\n",
    "from sklearn.linear_model import LogisticRegression\n",
    "from sklearn.model_selection import cross_val_score, train_test_split\n",
    "from scipy.sparse import hstack\n",
    "from sklearn.pipeline import Pipeline, make_pipeline\n",
    "from sklearn.base import BaseEstimator, TransformerMixin\n",
    "from sklearn.ensemble import RandomForestClassifier\n",
    "from sklearn.ensemble import GradientBoostingClassifier\n",
    "import matplotlib.pyplot as plt\n",
    "df = pd.read_csv('train_case2.csv', ';')\n",
    "df.head(3)"
   ]
  },
  {
   "cell_type": "code",
   "execution_count": 24,
   "id": "4052c74b",
   "metadata": {},
   "outputs": [],
   "source": [
    "class ColumnSelector(BaseEstimator, TransformerMixin):\n",
    "    \"\"\"\n",
    "    Transformer to select a single column from the data frame to perform additional transformations on\n",
    "    \"\"\"\n",
    "    def __init__(self, key):\n",
    "        self.key = key\n",
    "\n",
    "    def fit(self, X, y=None):\n",
    "        return self\n",
    "\n",
    "    def transform(self, X):\n",
    "        return X[self.key]\n",
    "    \n",
    "class NumberSelector(BaseEstimator, TransformerMixin):\n",
    "    \"\"\"\n",
    "    Transformer to select a single column from the data frame to perform additional transformations on\n",
    "    Use on numeric columns in the data\n",
    "    \"\"\"\n",
    "    def __init__(self, key):\n",
    "        self.key = key\n",
    "\n",
    "    def fit(self, X, y=None):\n",
    "        return self\n",
    "\n",
    "    def transform(self, X):\n",
    "        return X[[self.key]]\n",
    "    \n",
    "class OHEEncoder(BaseEstimator, TransformerMixin):\n",
    "    def __init__(self, key):\n",
    "        self.key = key\n",
    "        self.columns = []\n",
    "\n",
    "    def fit(self, X, y=None):\n",
    "        self.columns = [col for col in pd.get_dummies(X, prefix=self.key).columns]\n",
    "        return self\n",
    "\n",
    "    def transform(self, X):\n",
    "        X = pd.get_dummies(X, prefix=self.key)\n",
    "        test_columns = [col for col in X.columns]\n",
    "        for col_ in test_columns:\n",
    "            if col_ not in self.columns:\n",
    "                X[col_] = 0\n",
    "        return X[self.columns]\n",
    "\n",
    "\n",
    "from sklearn.preprocessing import StandardScaler\n",
    "\n",
    "\n",
    "continuos_cols = ['age', 'height', 'weight', 'ap_hi', 'ap_lo']\n",
    "cat_cols = ['gender', 'cholesterol']\n",
    "base_cols = ['gluc', 'smoke', 'alco', 'active']\n",
    "\n",
    "continuos_transformers = []\n",
    "cat_transformers = []\n",
    "base_transformers = []\n",
    "\n",
    "for cont_col in continuos_cols:\n",
    "    transfomer =  Pipeline([\n",
    "                ('selector', NumberSelector(key=cont_col)),\n",
    "                ('standard', StandardScaler())\n",
    "            ])\n",
    "    continuos_transformers.append((cont_col, transfomer))\n",
    "    \n",
    "for cat_col in cat_cols:\n",
    "    cat_transformer = Pipeline([\n",
    "                ('selector', ColumnSelector(key=cat_col)),\n",
    "                ('ohe', OHEEncoder(key=cat_col))\n",
    "            ])\n",
    "    cat_transformers.append((cat_col, cat_transformer))\n",
    "    \n",
    "for base_col in base_cols:\n",
    "    base_transformer = Pipeline([\n",
    "                ('selector', NumberSelector(key=base_col))\n",
    "            ])\n",
    "    base_transformers.append((base_col, base_transformer))"
   ]
  },
  {
   "cell_type": "code",
   "execution_count": 25,
   "id": "a9c6c5e4",
   "metadata": {},
   "outputs": [
    {
     "data": {
      "text/plain": [
       "array([[-1.73391771,  0.6873301 ,  0.74843904, ...,  1.        ,\n",
       "         0.        ,  1.        ],\n",
       "       [-1.67343538,  0.07758923, -0.29640123, ...,  0.        ,\n",
       "         0.        ,  1.        ],\n",
       "       [ 0.13738132,  1.17512278, -0.15708919, ...,  0.        ,\n",
       "         0.        ,  0.        ],\n",
       "       ...,\n",
       "       [ 1.17775864,  1.17512278, -0.15708919, ...,  0.        ,\n",
       "         0.        ,  1.        ],\n",
       "       [-0.47190715, -1.38578883,  0.74843904, ...,  0.        ,\n",
       "         0.        ,  1.        ],\n",
       "       [ 0.38174619,  0.56538192, -0.08743318, ...,  0.        ,\n",
       "         0.        ,  1.        ]])"
      ]
     },
     "execution_count": 25,
     "metadata": {},
     "output_type": "execute_result"
    }
   ],
   "source": [
    "from sklearn.pipeline import FeatureUnion\n",
    "\n",
    "# разделим данные на train/test\n",
    "X_train, X_test, y_train, y_test = train_test_split(df.drop(columns='cardio'), \n",
    "                                                    df['cardio'], random_state=0)\n",
    "feats = FeatureUnion(continuos_transformers+cat_transformers+base_transformers)\n",
    "feature_processing = Pipeline([('feats', feats)])\n",
    "\n",
    "feature_processing.fit_transform(X_train)"
   ]
  },
  {
   "cell_type": "markdown",
   "id": "0888b746",
   "metadata": {},
   "source": [
    "# 1\n",
    "Обучить несколько разных моделей на наборе данных ССЗ (train_case2.csv): логрег, бустинг, лес и т.д - на ваш выбор 2-3 варианта"
   ]
  },
  {
   "cell_type": "code",
   "execution_count": 35,
   "id": "87bf4c03",
   "metadata": {},
   "outputs": [
    {
     "name": "stdout",
     "output_type": "stream",
     "text": [
      "CV score is 0.7864573689384385+-0.004422021036885763\n",
      "CV score is 0.7743723744479942+-0.003620133378602203\n",
      "CV score is 0.8023324413971037+-0.0030701452645104078\n"
     ]
    }
   ],
   "source": [
    "result = {}\n",
    "models = [LogisticRegression(),RandomForestClassifier(),GradientBoostingClassifier()]\n",
    "for model in models:\n",
    "    classifier = Pipeline([\n",
    "        ('features', feats),\n",
    "        ('classifier', model),\n",
    "        ])\n",
    "\n",
    "\n",
    "    # запустим кросс-валидацию\n",
    "    cv_scores = cross_val_score(classifier, X_train, y_train, cv=7, scoring='roc_auc')\n",
    "    cv_score = np.mean(cv_scores)\n",
    "    cv_score_std = np.std(cv_scores)\n",
    "    print(f'CV score is {cv_score}+-{cv_score_std}')\n",
    "\n",
    "    # обучим пайплайн на всем тренировочном датасете\n",
    "    classifier.fit(X_train, y_train)\n",
    "    result[f'{model}'] = classifier.predict_proba(X_test)[:, 1]"
   ]
  },
  {
   "cell_type": "code",
   "execution_count": 36,
   "id": "f88a1689",
   "metadata": {},
   "outputs": [
    {
     "data": {
      "text/plain": [
       "{'LogisticRegression()': array([0.21919629, 0.24759828, 0.40484498, ..., 0.16941878, 0.70519218,\n",
       "        0.75098778]),\n",
       " 'RandomForestClassifier()': array([0.27583333, 0.14      , 0.02      , ..., 0.03      , 0.82      ,\n",
       "        0.72      ]),\n",
       " 'GradientBoostingClassifier()': array([0.1585145 , 0.19609409, 0.36242795, ..., 0.13083914, 0.73939789,\n",
       "        0.78147122])}"
      ]
     },
     "execution_count": 36,
     "metadata": {},
     "output_type": "execute_result"
    }
   ],
   "source": [
    "result "
   ]
  },
  {
   "cell_type": "markdown",
   "id": "1190ff91",
   "metadata": {},
   "source": [
    "# 2\n",
    "Вывести сравнение полученных моделей по основным метрикам классификации: pr/rec/auc/f_score (можно в виде таблицы, где строки - модели, а столбцы - метрики)"
   ]
  },
  {
   "cell_type": "code",
   "execution_count": 50,
   "id": "93987e1c",
   "metadata": {},
   "outputs": [],
   "source": [
    "from sklearn.metrics import precision_recall_curve, roc_curve, roc_auc_score, confusion_matrix\n",
    "table = pd.DataFrame()\n",
    "keys = ['LogisticRegression()','RandomForestClassifier()','GradientBoostingClassifier()']\n",
    "for key in keys:\n",
    "    b = 1\n",
    "    precision, recall, thresholds = precision_recall_curve(y_test.values, result[f'{key}'])\n",
    "    fscore = (1 +b**2) * (precision * recall) / (b**2 * precision + recall)\n",
    "    # locate the index of the largest f score\n",
    "    ix = np.argmax(fscore)\n",
    "    table = table.append({'name_model': f'{key}',\n",
    "               'roc_auc': roc_auc_score(y_test.values, result[f'{key}']),\n",
    "               'precision': precision[ix],\n",
    "               'recall': recall[ix],\n",
    "               'f_score': fscore[ix],\n",
    "                'Threshold': thresholds[ix]}, ignore_index=True)"
   ]
  },
  {
   "cell_type": "code",
   "execution_count": 51,
   "id": "c252bfbb",
   "metadata": {},
   "outputs": [
    {
     "data": {
      "text/html": [
       "<div>\n",
       "<style scoped>\n",
       "    .dataframe tbody tr th:only-of-type {\n",
       "        vertical-align: middle;\n",
       "    }\n",
       "\n",
       "    .dataframe tbody tr th {\n",
       "        vertical-align: top;\n",
       "    }\n",
       "\n",
       "    .dataframe thead th {\n",
       "        text-align: right;\n",
       "    }\n",
       "</style>\n",
       "<table border=\"1\" class=\"dataframe\">\n",
       "  <thead>\n",
       "    <tr style=\"text-align: right;\">\n",
       "      <th></th>\n",
       "      <th>Threshold</th>\n",
       "      <th>f_score</th>\n",
       "      <th>name_model</th>\n",
       "      <th>precision</th>\n",
       "      <th>recall</th>\n",
       "      <th>roc_auc</th>\n",
       "    </tr>\n",
       "  </thead>\n",
       "  <tbody>\n",
       "    <tr>\n",
       "      <th>0</th>\n",
       "      <td>0.386937</td>\n",
       "      <td>0.730323</td>\n",
       "      <td>LogisticRegression()</td>\n",
       "      <td>0.647431</td>\n",
       "      <td>0.837558</td>\n",
       "      <td>0.784035</td>\n",
       "    </tr>\n",
       "    <tr>\n",
       "      <th>1</th>\n",
       "      <td>0.330000</td>\n",
       "      <td>0.719289</td>\n",
       "      <td>RandomForestClassifier()</td>\n",
       "      <td>0.634395</td>\n",
       "      <td>0.830415</td>\n",
       "      <td>0.769558</td>\n",
       "    </tr>\n",
       "    <tr>\n",
       "      <th>2</th>\n",
       "      <td>0.394947</td>\n",
       "      <td>0.740248</td>\n",
       "      <td>GradientBoostingClassifier()</td>\n",
       "      <td>0.697848</td>\n",
       "      <td>0.788134</td>\n",
       "      <td>0.802614</td>\n",
       "    </tr>\n",
       "  </tbody>\n",
       "</table>\n",
       "</div>"
      ],
      "text/plain": [
       "   Threshold   f_score                    name_model  precision    recall  \\\n",
       "0   0.386937  0.730323          LogisticRegression()   0.647431  0.837558   \n",
       "1   0.330000  0.719289      RandomForestClassifier()   0.634395  0.830415   \n",
       "2   0.394947  0.740248  GradientBoostingClassifier()   0.697848  0.788134   \n",
       "\n",
       "    roc_auc  \n",
       "0  0.784035  \n",
       "1  0.769558  \n",
       "2  0.802614  "
      ]
     },
     "execution_count": 51,
     "metadata": {},
     "output_type": "execute_result"
    }
   ],
   "source": [
    "table"
   ]
  },
  {
   "cell_type": "code",
   "execution_count": 57,
   "id": "de7055e8",
   "metadata": {},
   "outputs": [
    {
     "data": {
      "text/plain": [
       "0    0.386937\n",
       "Name: Threshold, dtype: float64"
      ]
     },
     "execution_count": 57,
     "metadata": {},
     "output_type": "execute_result"
    }
   ],
   "source": [
    "table[table.name_model == 'LogisticRegression()']['Threshold']"
   ]
  },
  {
   "cell_type": "markdown",
   "id": "25d6a65f",
   "metadata": {},
   "source": [
    "# 3\n",
    "Вывести сравнение полученных моделей по метрикам бизнеса по показателям с урока\n",
    "стоимость лечения 15000р, если сделали тест и начали лечить вовремя\n",
    "стоимость лечения 20000р, если упустили и начали лечить когда уже проявились все симптомы\n",
    "стоимость теста 1400р"
   ]
  },
  {
   "cell_type": "code",
   "execution_count": 48,
   "id": "1bb4aaee",
   "metadata": {},
   "outputs": [],
   "source": [
    "rubl_test = 1400\n",
    "rubl_early_treatment = 15000\n",
    "rubl_late_treatment = 20000"
   ]
  },
  {
   "cell_type": "code",
   "execution_count": 49,
   "id": "94988665",
   "metadata": {},
   "outputs": [],
   "source": [
    "def business_threshold_calibrate(y_test, y_score, thresholds,\n",
    "                                 rubl_test=100, rubl_early_treatment=100, rubl_late_treatment=1000):\n",
    "    business_threshold = 0\n",
    "    r_test_all_r_ML_ = 0\n",
    "\n",
    "    rubl_ML_ = 1_000_000_000 \n",
    "\n",
    "    rs = []\n",
    "    n = 20\n",
    "    for opt_buisness_tr in np.linspace(0, 1, n).tolist():\n",
    "        # подберем порог для улучшения бизнесс показателя\n",
    "\n",
    "        cnf_matrix = confusion_matrix(y_test, y_score > (opt_buisness_tr))\n",
    "        TN = cnf_matrix[0][0]\n",
    "        FN = cnf_matrix[1][0]\n",
    "        TP = cnf_matrix[1][1]\n",
    "        FP = cnf_matrix[0][1]\n",
    "\n",
    "        rubl_1 = (TP + FN) * rubl_late_treatment\n",
    "        rubl_test_all = np.sum(cnf_matrix) * rubl_test + (FN + TP) * rubl_early_treatment\n",
    "        rubl_ML = (TP + FP) * rubl_test + FN * rubl_late_treatment + TP * rubl_early_treatment\n",
    "        \n",
    "        r_test_all_r_ML = rubl_test_all - rubl_ML \n",
    "        \n",
    "        if rubl_ML < rubl_ML_:            \n",
    "            business_threshold = opt_buisness_tr\n",
    "            \n",
    "            rubl_ML_ = rubl_ML\n",
    "            \n",
    "        rs.append(rubl_ML)   \n",
    "            \n",
    "    \n",
    "    print('расходы, если не делать тест и ждать симптомов:', rubl_1)\n",
    "    print('расходы, если делать тест всем и лечить группу больных:', rubl_test_all)\n",
    "    print('расходы, если использовать МЛ:', rubl_ML_)\n",
    "\n",
    "    print('Расходы \"решение не делать тесты - расходы с МL:\"', rubl_1 - rubl_ML_)\n",
    "    print('Расходы \"решение не делать тесты - расходы сделать тесты всем\":', rubl_1 - rubl_test_all)\n",
    "    print('Расходы \"сделать тесты всем - решение делать тесты ML\":', rubl_test_all - rubl_ML_)\n",
    "    \n",
    "    plt.title('Потери при МЛ решении')\n",
    "    plt.xlabel('Отсечка')\n",
    "    plt.ylabel('Потери')\n",
    "    plt.plot(np.linspace(0,1,n), rs)\n",
    "    plt.show()\n",
    "    return business_threshold"
   ]
  },
  {
   "cell_type": "code",
   "execution_count": 60,
   "id": "0f735ddf",
   "metadata": {},
   "outputs": [
    {
     "name": "stdout",
     "output_type": "stream",
     "text": [
      "расходы, если не делать тест и ждать симптомов: 173600000\n",
      "расходы, если делать тест всем и лечить группу больных: 154700000\n",
      "расходы, если использовать МЛ: 152712400\n",
      "Расходы \"решение не делать тесты - расходы с МL:\" 20887600\n",
      "Расходы \"решение не делать тесты - расходы сделать тесты всем\": 18900000\n",
      "Расходы \"сделать тесты всем - решение делать тесты ML\": 1987600\n"
     ]
    },
    {
     "data": {
      "image/png": "[encoded data removed]",
      "text/plain": [
       "<Figure size 432x288 with 1 Axes>"
      ]
     },
     "metadata": {
      "needs_background": "light"
     },
     "output_type": "display_data"
    },
    {
     "name": "stdout",
     "output_type": "stream",
     "text": [
      "уровень порога по бизнес метрике 0.3157894736842105\n",
      "уровень порога по f1 метрике 0    0.386937\n",
      "Name: Threshold, dtype: float64\n"
     ]
    }
   ],
   "source": [
    "thresholds = table[table.name_model == 'LogisticRegression()']['Threshold']\n",
    "busines_tr = business_threshold_calibrate(y_test, result['LogisticRegression()'], \n",
    "                                          thresholds,\n",
    "                                          rubl_test=1400, \n",
    "                                          rubl_early_treatment=15000, \n",
    "                                          rubl_late_treatment=20000)\n",
    "\n",
    "print('уровень порога по бизнес метрике', busines_tr)\n",
    "print('уровень порога по f1 метрике', thresholds)"
   ]
  },
  {
   "cell_type": "code",
   "execution_count": 61,
   "id": "82a1052f",
   "metadata": {},
   "outputs": [
    {
     "name": "stdout",
     "output_type": "stream",
     "text": [
      "расходы, если не делать тест и ждать симптомов: 173600000\n",
      "расходы, если делать тест всем и лечить группу больных: 154700000\n",
      "расходы, если использовать МЛ: 153190600\n",
      "Расходы \"решение не делать тесты - расходы с МL:\" 20409400\n",
      "Расходы \"решение не делать тесты - расходы сделать тесты всем\": 18900000\n",
      "Расходы \"сделать тесты всем - решение делать тесты ML\": 1509400\n"
     ]
    },
    {
     "data": {
      "image/png": "[encoded data removed]",
      "text/plain": [
       "<Figure size 432x288 with 1 Axes>"
      ]
     },
     "metadata": {
      "needs_background": "light"
     },
     "output_type": "display_data"
    },
    {
     "name": "stdout",
     "output_type": "stream",
     "text": [
      "уровень порога по бизнес метрике 0.2631578947368421\n",
      "уровень порога по f1 метрике 1    0.33\n",
      "Name: Threshold, dtype: float64\n"
     ]
    }
   ],
   "source": [
    "thresholds = table[table.name_model == 'RandomForestClassifier()']['Threshold']\n",
    "busines_tr = business_threshold_calibrate(y_test, result['RandomForestClassifier()'], \n",
    "                                          thresholds,\n",
    "                                          rubl_test=1400, \n",
    "                                          rubl_early_treatment=15000, \n",
    "                                          rubl_late_treatment=20000)\n",
    "\n",
    "print('уровень порога по бизнес метрике', busines_tr)\n",
    "print('уровень порога по f1 метрике', thresholds)"
   ]
  },
  {
   "cell_type": "code",
   "execution_count": 62,
   "id": "e0135713",
   "metadata": {},
   "outputs": [
    {
     "name": "stdout",
     "output_type": "stream",
     "text": [
      "расходы, если не делать тест и ждать симптомов: 173600000\n",
      "расходы, если делать тест всем и лечить группу больных: 154700000\n",
      "расходы, если использовать МЛ: 152333600\n",
      "Расходы \"решение не делать тесты - расходы с МL:\" 21266400\n",
      "Расходы \"решение не делать тесты - расходы сделать тесты всем\": 18900000\n",
      "Расходы \"сделать тесты всем - решение делать тесты ML\": 2366400\n"
     ]
    },
    {
     "data": {
      "image/png": "[encoded data removed]",
      "text/plain": [
       "<Figure size 432x288 with 1 Axes>"
      ]
     },
     "metadata": {
      "needs_background": "light"
     },
     "output_type": "display_data"
    },
    {
     "name": "stdout",
     "output_type": "stream",
     "text": [
      "уровень порога по бизнес метрике 0.2631578947368421\n",
      "уровень порога по f1 метрике 2    0.394947\n",
      "Name: Threshold, dtype: float64\n"
     ]
    }
   ],
   "source": [
    "thresholds = table[table.name_model == 'GradientBoostingClassifier()']['Threshold']\n",
    "busines_tr = business_threshold_calibrate(y_test, result['GradientBoostingClassifier()'], \n",
    "                                          thresholds,\n",
    "                                          rubl_test=1400, \n",
    "                                          rubl_early_treatment=15000, \n",
    "                                          rubl_late_treatment=20000)\n",
    "\n",
    "print('уровень порога по бизнес метрике', busines_tr)\n",
    "print('уровень порога по f1 метрике', thresholds)"
   ]
  },
  {
   "cell_type": "markdown",
   "id": "9be40d3c",
   "metadata": {},
   "source": [
    "модель GradientBoostingClassifier() была лучше остальных так как расходы с ML e нее ниже всего"
   ]
  },
  {
   "cell_type": "code",
   "execution_count": null,
   "id": "f57e9604",
   "metadata": {},
   "outputs": [],
   "source": []
  }
 ],
 "metadata": {
  "kernelspec": {
   "display_name": "Python 3",
   "language": "python",
   "name": "python3"
  },
  "language_info": {
   "codemirror_mode": {
    "name": "ipython",
    "version": 3
   },
   "file_extension": ".py",
   "mimetype": "text/x-python",
   "name": "python",
   "nbconvert_exporter": "python",
   "pygments_lexer": "ipython3",
   "version": "3.8.10"
  }
 },
 "nbformat": 4,
 "nbformat_minor": 5
}
