{
 "cells": [
  {
   "cell_type": "markdown",
   "id": "d8869eec",
   "metadata": {},
   "source": [
    "1 Для нашего пайплайна (Case1) поэкспериментировать с разными моделями:\n",
    "\n",
    " -бустинг\n",
    " \n",
    " -логистическая регрессия\n",
    " \n",
    "2 Отобрать лучшую модель по метрикам (какая по вашему мнению здесь наиболее подходящая ML-метрика)\n",
    "\n",
    "3 Для отобранной модели (на отложенной выборке) сделать оценку экономической эффективности при тех же вводных, как   в вопросе 2:\n",
    "\n",
    "  -доллар на удержание\n",
    "  \n",
    "  -доллара - с каждого правильно классифицированного (True Positive)\n",
    "  \n",
    "*Провести подбор гиперпараметров лучшей модели по итогам 2-3\n",
    "\n",
    "*Еще раз провести оценку экономической эффективности"
   ]
  },
  {
   "cell_type": "code",
   "execution_count": 1,
   "id": "34d0a989",
   "metadata": {},
   "outputs": [],
   "source": [
    "import pandas as pd\n",
    "import numpy as np\n",
    "from sklearn.pipeline import Pipeline, make_pipeline\n",
    "from sklearn.base import BaseEstimator, TransformerMixin\n",
    "from sklearn.linear_model import LogisticRegression\n",
    "from sklearn.model_selection import train_test_split\n",
    "#from sklearn.feature_extraction.text import TfidfVectorizer\n",
    "import itertools\n",
    "\n",
    "import matplotlib.pyplot as plt\n",
    "\n",
    "%matplotlib inline"
   ]
  },
  {
   "cell_type": "code",
   "execution_count": 3,
   "id": "1cc483fe",
   "metadata": {},
   "outputs": [
    {
     "name": "stdout",
     "output_type": "stream",
     "text": [
      "--2022-03-17 19:21:16--  https://drive.google.com/uc?export=download&id=1yIIxDfW7Wfq-wPlbsa0dFrSlD3r-Ai91\n",
      "Распознаётся drive.google.com (drive.google.com)... 64.233.162.194, 2a00:1450:4010:c05::c2\n",
      "Подключение к drive.google.com (drive.google.com)|64.233.162.194|:443... соединение установлено.\n",
      "HTTP-запрос отправлен. Ожидание ответа... 303 See Other\n",
      "Адрес: https://doc-14-c0-docs.googleusercontent.com/docs/securesc/ha0ro937gcuc7l7deffksulhg5h7mbp1/9e6kjtnmsenq72hln2vnn0ofvcfbqere/1647534075000/14904333240138417226/*/1yIIxDfW7Wfq-wPlbsa0dFrSlD3r-Ai91?e=download [переход]\n",
      "Предупреждение: в HTTP шаблоны не поддерживаются.\n",
      "--2022-03-17 19:21:17--  https://doc-14-c0-docs.googleusercontent.com/docs/securesc/ha0ro937gcuc7l7deffksulhg5h7mbp1/9e6kjtnmsenq72hln2vnn0ofvcfbqere/1647534075000/14904333240138417226/*/1yIIxDfW7Wfq-wPlbsa0dFrSlD3r-Ai91?e=download\n",
      "Распознаётся doc-14-c0-docs.googleusercontent.com (doc-14-c0-docs.googleusercontent.com)... 142.251.1.132, 2a00:1450:4010:c1e::84\n",
      "Подключение к doc-14-c0-docs.googleusercontent.com (doc-14-c0-docs.googleusercontent.com)|142.251.1.132|:443... соединение установлено.\n",
      "HTTP-запрос отправлен. Ожидание ответа... 200 OK\n",
      "Длина: 674856 (659K) [text/csv]\n",
      "Сохранение в каталог: ««churn_data.csv»».\n",
      "\n",
      "churn_data.csv      100%[===================>] 659,04K  3,30MB/s    за 0,2s    \n",
      "\n",
      "2022-03-17 19:21:17 (3,30 MB/s) - «churn_data.csv» сохранён [674856/674856]\n",
      "\n"
     ]
    }
   ],
   "source": [
    "!wget 'https://drive.google.com/uc?export=download&id=1yIIxDfW7Wfq-wPlbsa0dFrSlD3r-Ai91' -O churn_data.csv"
   ]
  },
  {
   "cell_type": "code",
   "execution_count": 2,
   "id": "5d1810f6",
   "metadata": {},
   "outputs": [
    {
     "data": {
      "text/html": [
       "<div>\n",
       "<style scoped>\n",
       "    .dataframe tbody tr th:only-of-type {\n",
       "        vertical-align: middle;\n",
       "    }\n",
       "\n",
       "    .dataframe tbody tr th {\n",
       "        vertical-align: top;\n",
       "    }\n",
       "\n",
       "    .dataframe thead th {\n",
       "        text-align: right;\n",
       "    }\n",
       "</style>\n",
       "<table border=\"1\" class=\"dataframe\">\n",
       "  <thead>\n",
       "    <tr style=\"text-align: right;\">\n",
       "      <th></th>\n",
       "      <th>RowNumber</th>\n",
       "      <th>CustomerId</th>\n",
       "      <th>Surname</th>\n",
       "      <th>CreditScore</th>\n",
       "      <th>Geography</th>\n",
       "      <th>Gender</th>\n",
       "      <th>Age</th>\n",
       "      <th>Tenure</th>\n",
       "      <th>Balance</th>\n",
       "      <th>NumOfProducts</th>\n",
       "      <th>HasCrCard</th>\n",
       "      <th>IsActiveMember</th>\n",
       "      <th>EstimatedSalary</th>\n",
       "      <th>Exited</th>\n",
       "    </tr>\n",
       "  </thead>\n",
       "  <tbody>\n",
       "    <tr>\n",
       "      <th>0</th>\n",
       "      <td>1</td>\n",
       "      <td>15634602</td>\n",
       "      <td>Hargrave</td>\n",
       "      <td>619</td>\n",
       "      <td>France</td>\n",
       "      <td>Female</td>\n",
       "      <td>42</td>\n",
       "      <td>2</td>\n",
       "      <td>0.00</td>\n",
       "      <td>1</td>\n",
       "      <td>1</td>\n",
       "      <td>1</td>\n",
       "      <td>101348.88</td>\n",
       "      <td>1</td>\n",
       "    </tr>\n",
       "    <tr>\n",
       "      <th>1</th>\n",
       "      <td>2</td>\n",
       "      <td>15647311</td>\n",
       "      <td>Hill</td>\n",
       "      <td>608</td>\n",
       "      <td>Spain</td>\n",
       "      <td>Female</td>\n",
       "      <td>41</td>\n",
       "      <td>1</td>\n",
       "      <td>83807.86</td>\n",
       "      <td>1</td>\n",
       "      <td>0</td>\n",
       "      <td>1</td>\n",
       "      <td>112542.58</td>\n",
       "      <td>0</td>\n",
       "    </tr>\n",
       "    <tr>\n",
       "      <th>2</th>\n",
       "      <td>3</td>\n",
       "      <td>15619304</td>\n",
       "      <td>Onio</td>\n",
       "      <td>502</td>\n",
       "      <td>France</td>\n",
       "      <td>Female</td>\n",
       "      <td>42</td>\n",
       "      <td>8</td>\n",
       "      <td>159660.80</td>\n",
       "      <td>3</td>\n",
       "      <td>1</td>\n",
       "      <td>0</td>\n",
       "      <td>113931.57</td>\n",
       "      <td>1</td>\n",
       "    </tr>\n",
       "  </tbody>\n",
       "</table>\n",
       "</div>"
      ],
      "text/plain": [
       "   RowNumber  CustomerId   Surname  CreditScore Geography  Gender  Age  \\\n",
       "0          1    15634602  Hargrave          619    France  Female   42   \n",
       "1          2    15647311      Hill          608     Spain  Female   41   \n",
       "2          3    15619304      Onio          502    France  Female   42   \n",
       "\n",
       "   Tenure    Balance  NumOfProducts  HasCrCard  IsActiveMember  \\\n",
       "0       2       0.00              1          1               1   \n",
       "1       1   83807.86              1          0               1   \n",
       "2       8  159660.80              3          1               0   \n",
       "\n",
       "   EstimatedSalary  Exited  \n",
       "0        101348.88       1  \n",
       "1        112542.58       0  \n",
       "2        113931.57       1  "
      ]
     },
     "execution_count": 2,
     "metadata": {},
     "output_type": "execute_result"
    }
   ],
   "source": [
    "df = pd.read_csv(\"churn_data.csv\")\n",
    "df.head(3)"
   ]
  },
  {
   "cell_type": "code",
   "execution_count": 3,
   "id": "ef62d703",
   "metadata": {},
   "outputs": [],
   "source": [
    "#разделим данные на train/test\n",
    "X_train, X_test, y_train, y_test = train_test_split(df, df['Exited'], random_state=0)"
   ]
  },
  {
   "cell_type": "code",
   "execution_count": 4,
   "id": "2bd157e7",
   "metadata": {},
   "outputs": [],
   "source": [
    "#соберем наш простой pipeline, но нам понадобится написать класс для выбора нужного поля\n",
    "class FeatureSelector(BaseEstimator, TransformerMixin):\n",
    "    def __init__(self, column):\n",
    "        self.column = column\n",
    "\n",
    "    def fit(self, X, y=None):\n",
    "        return self\n",
    "\n",
    "    def transform(self, X, y=None):\n",
    "        return X[self.column]\n",
    "    \n",
    "\n",
    "class NumberSelector(BaseEstimator, TransformerMixin):\n",
    "    \"\"\"\n",
    "    Transformer to select a single column from the data frame to perform additional transformations on\n",
    "    Use on numeric columns in the data\n",
    "    \"\"\"\n",
    "    def __init__(self, key):\n",
    "        self.key = key\n",
    "\n",
    "    def fit(self, X, y=None):\n",
    "        return self\n",
    "\n",
    "    def transform(self, X):\n",
    "        return X[[self.key]]\n",
    "    \n",
    "    \n",
    "class OHEEncoder(BaseEstimator, TransformerMixin):\n",
    "    def __init__(self, key):\n",
    "        self.key = key\n",
    "        self.columns = []\n",
    "\n",
    "    def fit(self, X, y=None):\n",
    "        self.columns = [col for col in pd.get_dummies(X, prefix=self.key).columns]\n",
    "        return self\n",
    "\n",
    "    def transform(self, X):\n",
    "        X = pd.get_dummies(X, prefix=self.key)\n",
    "        test_columns = [col for col in X.columns]\n",
    "        print(test_columns)\n",
    "        for col_ in self.columns:\n",
    "            print(col_)\n",
    "            if col_ not in test_columns:\n",
    "                print('ll')\n",
    "                X[col_] = 0\n",
    "        return X[self.columns]"
   ]
  },
  {
   "cell_type": "code",
   "execution_count": 5,
   "id": "b01147e9",
   "metadata": {},
   "outputs": [],
   "source": [
    "categorical_columns = ['Geography', 'Gender', 'Tenure', 'HasCrCard', 'IsActiveMember']\n",
    "continuous_columns = ['CreditScore', 'Age', 'Balance', 'NumOfProducts', 'EstimatedSalary']"
   ]
  },
  {
   "cell_type": "code",
   "execution_count": 6,
   "id": "7b04016b",
   "metadata": {},
   "outputs": [],
   "source": [
    "from sklearn.pipeline import Pipeline\n",
    "from sklearn.pipeline import FeatureUnion\n",
    "\n",
    "final_transformers = list()\n",
    "\n",
    "for cat_col in categorical_columns:\n",
    "    cat_transformer = Pipeline([\n",
    "                ('selector', FeatureSelector(column=cat_col)),\n",
    "                ('ohe', OHEEncoder(key=cat_col))\n",
    "            ])\n",
    "    \n",
    "    final_transformers.append((cat_col, cat_transformer))\n",
    "    \n",
    "for cont_col in continuous_columns:\n",
    "    cont_transformer = Pipeline([\n",
    "                ('selector', NumberSelector(key=cont_col))\n",
    "            ])\n",
    "    \n",
    "    final_transformers.append((cont_col, cont_transformer))\n",
    "    \n",
    "feats = FeatureUnion(final_transformers)\n",
    "\n",
    "feature_processing = Pipeline([('feats', feats)])"
   ]
  },
  {
   "cell_type": "code",
   "execution_count": 40,
   "id": "13e18cc8",
   "metadata": {},
   "outputs": [],
   "source": [
    "from sklearn.linear_model import LinearRegression\n",
    "from sklearn.ensemble import GradientBoostingClassifier\n",
    "\n",
    "pipeline_lin = Pipeline([\n",
    "    ('features', feats),\n",
    "    ('classifier', LinearRegression()),\n",
    "])\n",
    "\n",
    "pipeline_boost = Pipeline([\n",
    "    ('features', feats),\n",
    "    ('classifier', GradientBoostingClassifier()),\n",
    "])"
   ]
  },
  {
   "cell_type": "markdown",
   "id": "7a05499c",
   "metadata": {},
   "source": [
    "# построим модели"
   ]
  },
  {
   "cell_type": "code",
   "execution_count": 8,
   "id": "ff658b6d",
   "metadata": {},
   "outputs": [
    {
     "name": "stdout",
     "output_type": "stream",
     "text": [
      "['Geography_France', 'Geography_Germany', 'Geography_Spain']\n",
      "Geography_France\n",
      "Geography_Germany\n",
      "Geography_Spain\n",
      "['Gender_Female', 'Gender_Male']\n",
      "Gender_Female\n",
      "Gender_Male\n",
      "['Tenure_0', 'Tenure_1', 'Tenure_2', 'Tenure_3', 'Tenure_4', 'Tenure_5', 'Tenure_6', 'Tenure_7', 'Tenure_8', 'Tenure_9', 'Tenure_10']\n",
      "Tenure_0\n",
      "Tenure_1\n",
      "Tenure_2\n",
      "Tenure_3\n",
      "Tenure_4\n",
      "Tenure_5\n",
      "Tenure_6\n",
      "Tenure_7\n",
      "Tenure_8\n",
      "Tenure_9\n",
      "Tenure_10\n",
      "['HasCrCard_0', 'HasCrCard_1']\n",
      "HasCrCard_0\n",
      "HasCrCard_1\n",
      "['IsActiveMember_0', 'IsActiveMember_1']\n",
      "IsActiveMember_0\n",
      "IsActiveMember_1\n",
      "['Geography_France', 'Geography_Germany', 'Geography_Spain']\n",
      "Geography_France\n",
      "Geography_Germany\n",
      "Geography_Spain\n",
      "['Gender_Female', 'Gender_Male']\n",
      "Gender_Female\n",
      "Gender_Male\n",
      "['Tenure_0', 'Tenure_1', 'Tenure_2', 'Tenure_3', 'Tenure_4', 'Tenure_5', 'Tenure_6', 'Tenure_7', 'Tenure_8', 'Tenure_9', 'Tenure_10']\n",
      "Tenure_0\n",
      "Tenure_1\n",
      "Tenure_2\n",
      "Tenure_3\n",
      "Tenure_4\n",
      "Tenure_5\n",
      "Tenure_6\n",
      "Tenure_7\n",
      "Tenure_8\n",
      "Tenure_9\n",
      "Tenure_10\n",
      "['HasCrCard_0', 'HasCrCard_1']\n",
      "HasCrCard_0\n",
      "HasCrCard_1\n",
      "['IsActiveMember_0', 'IsActiveMember_1']\n",
      "IsActiveMember_0\n",
      "IsActiveMember_1\n"
     ]
    },
    {
     "data": {
      "text/plain": [
       "Pipeline(steps=[('features',\n",
       "                 FeatureUnion(transformer_list=[('Geography',\n",
       "                                                 Pipeline(steps=[('selector',\n",
       "                                                                  FeatureSelector(column='Geography')),\n",
       "                                                                 ('ohe',\n",
       "                                                                  OHEEncoder(key='Geography'))])),\n",
       "                                                ('Gender',\n",
       "                                                 Pipeline(steps=[('selector',\n",
       "                                                                  FeatureSelector(column='Gender')),\n",
       "                                                                 ('ohe',\n",
       "                                                                  OHEEncoder(key='Gender'))])),\n",
       "                                                ('Tenure',\n",
       "                                                 Pipeline(steps=[('selector',\n",
       "                                                                  FeatureSelector(column='Tenu...\n",
       "                                                 Pipeline(steps=[('selector',\n",
       "                                                                  NumberSelector(key='Age'))])),\n",
       "                                                ('Balance',\n",
       "                                                 Pipeline(steps=[('selector',\n",
       "                                                                  NumberSelector(key='Balance'))])),\n",
       "                                                ('NumOfProducts',\n",
       "                                                 Pipeline(steps=[('selector',\n",
       "                                                                  NumberSelector(key='NumOfProducts'))])),\n",
       "                                                ('EstimatedSalary',\n",
       "                                                 Pipeline(steps=[('selector',\n",
       "                                                                  NumberSelector(key='EstimatedSalary'))]))])),\n",
       "                ('classifier', GradientBoostingClassifier(random_state=42))])"
      ]
     },
     "execution_count": 8,
     "metadata": {},
     "output_type": "execute_result"
    }
   ],
   "source": [
    "pipeline_lin.fit(X_train, y_train)\n",
    "pipeline_boost.fit(X_train, y_train)"
   ]
  },
  {
   "cell_type": "code",
   "execution_count": 9,
   "id": "c28b9064",
   "metadata": {},
   "outputs": [
    {
     "name": "stdout",
     "output_type": "stream",
     "text": [
      "['Geography_France', 'Geography_Germany', 'Geography_Spain']\n",
      "Geography_France\n",
      "Geography_Germany\n",
      "Geography_Spain\n",
      "['Gender_Female', 'Gender_Male']\n",
      "Gender_Female\n",
      "Gender_Male\n",
      "['Tenure_0', 'Tenure_1', 'Tenure_2', 'Tenure_3', 'Tenure_4', 'Tenure_5', 'Tenure_6', 'Tenure_7', 'Tenure_8', 'Tenure_9', 'Tenure_10']\n",
      "Tenure_0\n",
      "Tenure_1\n",
      "Tenure_2\n",
      "Tenure_3\n",
      "Tenure_4\n",
      "Tenure_5\n",
      "Tenure_6\n",
      "Tenure_7\n",
      "Tenure_8\n",
      "Tenure_9\n",
      "Tenure_10\n",
      "['HasCrCard_0', 'HasCrCard_1']\n",
      "HasCrCard_0\n",
      "HasCrCard_1\n",
      "['IsActiveMember_0', 'IsActiveMember_1']\n",
      "IsActiveMember_0\n",
      "IsActiveMember_1\n",
      "['Geography_France', 'Geography_Germany', 'Geography_Spain']\n",
      "Geography_France\n",
      "Geography_Germany\n",
      "Geography_Spain\n",
      "['Gender_Female', 'Gender_Male']\n",
      "Gender_Female\n",
      "Gender_Male\n",
      "['Tenure_0', 'Tenure_1', 'Tenure_2', 'Tenure_3', 'Tenure_4', 'Tenure_5', 'Tenure_6', 'Tenure_7', 'Tenure_8', 'Tenure_9', 'Tenure_10']\n",
      "Tenure_0\n",
      "Tenure_1\n",
      "Tenure_2\n",
      "Tenure_3\n",
      "Tenure_4\n",
      "Tenure_5\n",
      "Tenure_6\n",
      "Tenure_7\n",
      "Tenure_8\n",
      "Tenure_9\n",
      "Tenure_10\n",
      "['HasCrCard_0', 'HasCrCard_1']\n",
      "HasCrCard_0\n",
      "HasCrCard_1\n",
      "['IsActiveMember_0', 'IsActiveMember_1']\n",
      "IsActiveMember_0\n",
      "IsActiveMember_1\n"
     ]
    }
   ],
   "source": [
    "preds_lin = pipeline_lin.predict(X_test)\n",
    "preds_boost = pipeline_boost.predict_proba(X_test)[:, 1]"
   ]
  },
  {
   "cell_type": "markdown",
   "id": "48863b23",
   "metadata": {},
   "source": [
    "# оценка модели"
   ]
  },
  {
   "cell_type": "code",
   "execution_count": 10,
   "id": "9e1ca205",
   "metadata": {},
   "outputs": [],
   "source": [
    "from sklearn.metrics import f1_score, roc_auc_score, precision_score, classification_report, precision_recall_curve, confusion_matrix"
   ]
  },
  {
   "cell_type": "code",
   "execution_count": 33,
   "id": "d30d7090",
   "metadata": {},
   "outputs": [
    {
     "name": "stdout",
     "output_type": "stream",
     "text": [
      "Best Threshold=0.28797157448607524, F-Score=0.513, Precision=0.431, Recall=0.635\n"
     ]
    }
   ],
   "source": [
    "precision, recall, thresholds = precision_recall_curve(y_test, preds_lin)\n",
    "fscore = (2 * precision * recall) / (precision + recall)\n",
    "ix = np.argmax(fscore)\n",
    "print(f'Best Threshold={thresholds[ix]}, F-Score={fscore[ix]:.3f}, Precision={precision[ix]:.3f}, Recall={recall[ix]:.3f}')"
   ]
  },
  {
   "cell_type": "code",
   "execution_count": 34,
   "id": "8358710f",
   "metadata": {},
   "outputs": [
    {
     "data": {
      "text/plain": [
       "array([[1564,  427],\n",
       "       [ 187,  322]])"
      ]
     },
     "execution_count": 34,
     "metadata": {},
     "output_type": "execute_result"
    }
   ],
   "source": [
    "cnf_matrix_lin = confusion_matrix(y_test, preds_lin > thresholds[ix])\n",
    "cnf_matrix_lin"
   ]
  },
  {
   "cell_type": "code",
   "execution_count": 35,
   "id": "1f60ae9a",
   "metadata": {},
   "outputs": [
    {
     "name": "stdout",
     "output_type": "stream",
     "text": [
      "Best Threshold=0.4085078904556646, F-Score=0.646, Precision=0.704, Recall=0.597\n"
     ]
    }
   ],
   "source": [
    "precision, recall, thresholds = precision_recall_curve(y_test, preds_boost)\n",
    "fscore = (2 * precision * recall) / (precision + recall)\n",
    "ix = np.argmax(fscore)\n",
    "print(f'Best Threshold={thresholds[ix]}, F-Score={fscore[ix]:.3f}, Precision={precision[ix]:.3f}, Recall={recall[ix]:.3f}')"
   ]
  },
  {
   "cell_type": "code",
   "execution_count": 36,
   "id": "a38fdfcb",
   "metadata": {},
   "outputs": [
    {
     "data": {
      "text/plain": [
       "array([[1863,  128],\n",
       "       [ 206,  303]])"
      ]
     },
     "execution_count": 36,
     "metadata": {},
     "output_type": "execute_result"
    }
   ],
   "source": [
    "cnf_matrix_boost = confusion_matrix(y_test, preds_boost > thresholds[ix])\n",
    "cnf_matrix_boost"
   ]
  },
  {
   "cell_type": "markdown",
   "id": "e98ea5cb",
   "metadata": {},
   "source": [
    "по метрикам ml лучше справился бустинг, но нас интересуют больше recall а он у линейной модели больше. выбор модели будет зависить от стратегии компании т.е. если компания хочет как можно больше удержать клиентов не смотря на затраты то здесь подойдет линейная регрессия потому что она больше находит людей которые могут уйти, но она так же много ошибыеться и это ведет к доп расходам. боустинг ошибаеться меньше, но он и находит людей оттока тоже меньше"
   ]
  },
  {
   "cell_type": "code",
   "execution_count": 24,
   "id": "4207136f",
   "metadata": {},
   "outputs": [
    {
     "data": {
      "text/plain": [
       "23"
      ]
     },
     "execution_count": 24,
     "metadata": {},
     "output_type": "execute_result"
    }
   ],
   "source": [
    "#lineal model\n",
    "TN = cnf_matrix_lin[0][0]\n",
    "FP = cnf_matrix_lin[0][1]\n",
    "FN = cnf_matrix_lin[1][0]\n",
    "TP = cnf_matrix_lin[1][1]\n",
    "\n",
    "retain_sum = (FP + TP) * 1\n",
    "income = TP * 2\n",
    "\n",
    "income - retain_sum"
   ]
  },
  {
   "cell_type": "code",
   "execution_count": 37,
   "id": "bc3a3150",
   "metadata": {},
   "outputs": [
    {
     "data": {
      "text/plain": [
       "175"
      ]
     },
     "execution_count": 37,
     "metadata": {},
     "output_type": "execute_result"
    }
   ],
   "source": [
    "#boost model\n",
    "TN = cnf_matrix_boost[0][0]\n",
    "FP = cnf_matrix_boost[0][1]\n",
    "FN = cnf_matrix_boost[1][0]\n",
    "TP = cnf_matrix_boost[1][1]\n",
    "\n",
    "retain_sum = (FP + TP) * 1\n",
    "income = TP * 2\n",
    "\n",
    "income - retain_sum"
   ]
  }
 ],
 "metadata": {
  "kernelspec": {
   "display_name": "Python 3",
   "language": "python",
   "name": "python3"
  },
  "language_info": {
   "codemirror_mode": {
    "name": "ipython",
    "version": 3
   },
   "file_extension": ".py",
   "mimetype": "text/x-python",
   "name": "python",
   "nbconvert_exporter": "python",
   "pygments_lexer": "ipython3",
   "version": "3.8.10"
  }
 },
 "nbformat": 4,
 "nbformat_minor": 5
}
